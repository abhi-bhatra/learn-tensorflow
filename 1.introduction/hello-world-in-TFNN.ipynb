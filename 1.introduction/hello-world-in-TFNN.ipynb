{
 "cells": [
  {
   "cell_type": "markdown",
   "id": "eee5717b",
   "metadata": {},
   "source": [
    "# Learn Neural Networks using Tensorflow\n",
    "\n",
    "### Chapter 1: Introduction\n",
    "\n",
    "> create our first Neural Network using Tensorflow. The sample that I would like to use is that, we are going to find the relationship between two numbers.\n",
    "\n",
    "For more info, visit: https://github.com/abhi-bhatra/learn-tensorflow/tree/main/1.introduction"
   ]
  },
  {
   "cell_type": "markdown",
   "id": "0972a1ee",
   "metadata": {},
   "source": [
    "### Import the modules"
   ]
  },
  {
   "cell_type": "code",
   "execution_count": null,
   "id": "d3eee186",
   "metadata": {},
   "outputs": [],
   "source": [
    "import tensorflow as tf\n",
    "import numpy as np\n",
    "from tensorflow import keras"
   ]
  },
  {
   "cell_type": "markdown",
   "id": "0186d14c",
   "metadata": {},
   "source": [
    "### Create a Numpy array of Xs and Ys"
   ]
  },
  {
   "cell_type": "code",
   "execution_count": null,
   "id": "ba0b73ec",
   "metadata": {},
   "outputs": [],
   "source": [
    "xs = np.array([-1.0,  0.0, 1.0, 2.0, 3.0, 4.0], dtype=float)\n",
    "ys = np.array([-3.0, -1.0, 1.0, 3.0, 5.0, 7.0], dtype=float)"
   ]
  },
  {
   "cell_type": "markdown",
   "id": "542fbfe3",
   "metadata": {},
   "source": [
    "### Create a single NN layer"
   ]
  },
  {
   "cell_type": "code",
   "execution_count": null,
   "id": "caa0d47c",
   "metadata": {},
   "outputs": [],
   "source": [
    "model = tf.keras.Sequential([keras.layers.Dense(units=1, input_shape=[1])]"
   ]
  },
  {
   "cell_type": "markdown",
   "id": "9e9bd082",
   "metadata": {},
   "source": [
    "### Compile the model"
   ]
  },
  {
   "cell_type": "code",
   "execution_count": null,
   "id": "5bcce7d6",
   "metadata": {},
   "outputs": [],
   "source": [
    "model.compile(optimizer='sgd', loss='mean_squared_error')"
   ]
  },
  {
   "cell_type": "markdown",
   "id": "48b84ad6",
   "metadata": {},
   "source": [
    "### Fit the values in the model"
   ]
  },
  {
   "cell_type": "code",
   "execution_count": null,
   "id": "d753088d",
   "metadata": {},
   "outputs": [],
   "source": [
    "model.fit(xs, ys, epochs=500)"
   ]
  },
  {
   "cell_type": "markdown",
   "id": "c529a1a2",
   "metadata": {},
   "source": [
    "### Predict"
   ]
  },
  {
   "cell_type": "code",
   "execution_count": null,
   "id": "5bf2424e",
   "metadata": {},
   "outputs": [],
   "source": [
    "print(model.predict([10.0]))"
   ]
  },
  {
   "cell_type": "markdown",
   "id": "303e2cf5",
   "metadata": {},
   "source": [
    "\n",
    "### CONGRATULATIONS, You have successfully trained your First Neural Network on TensorFlow"
   ]
  },
  {
   "cell_type": "code",
   "execution_count": null,
   "id": "cb612649",
   "metadata": {},
   "outputs": [],
   "source": []
  }
 ],
 "metadata": {
  "kernelspec": {
   "display_name": "Python 3",
   "language": "python",
   "name": "python3"
  },
  "language_info": {
   "codemirror_mode": {
    "name": "ipython",
    "version": 3
   },
   "file_extension": ".py",
   "mimetype": "text/x-python",
   "name": "python",
   "nbconvert_exporter": "python",
   "pygments_lexer": "ipython3",
   "version": "3.8.10"
  }
 },
 "nbformat": 4,
 "nbformat_minor": 5
}
