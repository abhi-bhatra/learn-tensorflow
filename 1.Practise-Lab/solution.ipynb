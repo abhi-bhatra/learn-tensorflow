{
 "cells": [
  {
   "cell_type": "markdown",
   "id": "eee5717b",
   "metadata": {},
   "source": [
    "# Practise Problem\n",
    "\n",
    "### Predicting Profit from Sales\n",
    "\n",
    "In this Lab you'll try to build a neural network that predicts the profit earned by a salesman on doing particular sales according to a simple formula.\n",
    "\n",
    "So, imagine if Sales Pricing was as easy as on each sale, it cost Salesman 50 INR for petrol to reach to destination, it cost 100 INR for advertisement of each sale and finally, he earns 200 INR on a sale.\n",
    "\n",
    "How would you create a neural network that learns this relationship so that it would predict a 10 sale as profit close to 1850 INR etc.\n",
    "\n",
    "Example: if Salesman done 1 sale, then the profit he earns is 200 INR - 100 INR(on Advertisement) - 50 INR(on Petrol) = 50 INR, on 2 sales he earns 400 INR - 100 INR - 50 INR = 250 INR and so on..!\n",
    "\n",
    "For more info, visit: https://github.com/abhi-bhatra/learn-tensorflow/tree/main/1.Practise-Lab"
   ]
  },
  {
   "cell_type": "markdown",
   "id": "0972a1ee",
   "metadata": {},
   "source": [
    "### Import the modules"
   ]
  },
  {
   "cell_type": "code",
   "execution_count": null,
   "id": "d3eee186",
   "metadata": {},
   "outputs": [],
   "source": [
    "import tensorflow as tf\n",
    "import numpy as np\n",
    "from tensorflow import keras"
   ]
  },
  {
   "cell_type": "markdown",
   "id": "0186d14c",
   "metadata": {},
   "source": [
    "### Create a Numpy array of Xs and Ys"
   ]
  },
  {
   "cell_type": "code",
   "execution_count": null,
   "id": "ba0b73ec",
   "metadata": {},
   "outputs": [],
   "source": [
    "xs = np.array([1,  2, 3, 4, 5, 6], dtype=float)\n",
    "ys = np.array([0.5, 2.5, 4.5, 6.5, 8.5, 10.5], dtype=float)"
   ]
  },
  {
   "cell_type": "markdown",
   "id": "542fbfe3",
   "metadata": {},
   "source": [
    "### Create a single NN layer"
   ]
  },
  {
   "cell_type": "code",
   "execution_count": null,
   "id": "caa0d47c",
   "metadata": {},
   "outputs": [],
   "source": [
    "model = tf.keras.Sequential([keras.layers.Dense(units=1, input_shape=[1])])"
   ]
  },
  {
   "cell_type": "markdown",
   "id": "9e9bd082",
   "metadata": {},
   "source": [
    "### Compile the model"
   ]
  },
  {
   "cell_type": "code",
   "execution_count": null,
   "id": "5bcce7d6",
   "metadata": {},
   "outputs": [],
   "source": [
    "model.compile(optimizer='sgd', loss='mean_squared_error')"
   ]
  },
  {
   "cell_type": "markdown",
   "id": "48b84ad6",
   "metadata": {},
   "source": [
    "### Fit the values in the model"
   ]
  },
  {
   "cell_type": "code",
   "execution_count": null,
   "id": "d753088d",
   "metadata": {},
   "outputs": [],
   "source": [
    "model.fit(xs, ys, epochs=1000)"
   ]
  },
  {
   "cell_type": "markdown",
   "id": "c529a1a2",
   "metadata": {},
   "source": [
    "### Predict"
   ]
  },
  {
   "cell_type": "code",
   "execution_count": null,
   "id": "5bf2424e",
   "metadata": {},
   "outputs": [],
   "source": [
    "print(model.predict([10]))"
   ]
  },
  {
   "cell_type": "markdown",
   "id": "303e2cf5",
   "metadata": {},
   "source": [
    "\n",
    "### CONGRATULATIONS, You have successfully completed your First Neural Network task on TensorFlow"
   ]
  },
  {
   "cell_type": "code",
   "execution_count": null,
   "id": "cb612649",
   "metadata": {},
   "outputs": [],
   "source": []
  }
 ],
 "metadata": {
  "kernelspec": {
   "display_name": "Python 3",
   "language": "python",
   "name": "python3"
  },
  "language_info": {
   "codemirror_mode": {
    "name": "ipython",
    "version": 3
   },
   "file_extension": ".py",
   "mimetype": "text/x-python",
   "name": "python",
   "nbconvert_exporter": "python",
   "pygments_lexer": "ipython3",
   "version": "3.8.10"
  }
 },
 "nbformat": 4,
 "nbformat_minor": 5
}
